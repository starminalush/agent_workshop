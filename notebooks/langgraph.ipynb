{
 "cells": [
  {
   "cell_type": "code",
   "execution_count": 1,
   "id": "a836667e-c2ae-4d4d-b546-9a7552c9bce5",
   "metadata": {},
   "outputs": [
    {
     "name": "stdin",
     "output_type": "stream",
     "text": [
      "Введите ваш OpenAI API ключ:  ········\n"
     ]
    }
   ],
   "source": [
    "import os\n",
    "from getpass import getpass\n",
    "\n",
    "os.environ[\"OPENAI_API_KEY\"] = getpass(\"Введите ваш OpenAI API ключ: \")"
   ]
  },
  {
   "cell_type": "markdown",
   "id": "30d7a23f-0385-4a6e-bd88-20188ac847a4",
   "metadata": {},
   "source": [
    "# Импорты"
   ]
  },
  {
   "cell_type": "code",
   "execution_count": 14,
   "id": "dbdfc798-6190-4668-a953-6bafff1a45a1",
   "metadata": {},
   "outputs": [],
   "source": [
    "from __future__ import annotations\n",
    "\n",
    "from dataclasses import dataclass, field, fields\n",
    "from datetime import UTC, datetime\n",
    "from typing import (Annotated, Any, Callable, Dict, List, Literal, Optional,\n",
    "                    Sequence, cast)\n",
    "\n",
    "import arxiv\n",
    "from IPython.display import Image\n",
    "from langchain.chat_models import init_chat_model\n",
    "from langchain_core.language_models import BaseChatModel\n",
    "from langchain_core.messages import AIMessage, AnyMessage, BaseMessage\n",
    "from langchain_core.runnables import ensure_config\n",
    "from langgraph.config import get_config\n",
    "from langgraph.graph import StateGraph, add_messages\n",
    "from langgraph.managed import IsLastStep\n",
    "from langgraph.prebuilt import ToolNode\n",
    "from pydantic import BaseModel, Field\n",
    "from typing_extensions import Annotated"
   ]
  },
  {
   "cell_type": "code",
   "execution_count": 3,
   "id": "8c3d9a89-dd68-4bdb-828b-d3fbb0ce378e",
   "metadata": {},
   "outputs": [],
   "source": [
    "SYSTEM_PROMPT = \"\"\"You are a helpful AI assistant.\"\"\""
   ]
  },
  {
   "cell_type": "markdown",
   "id": "bc2fdb46-7dea-4b12-b7f7-c603c63cb83a",
   "metadata": {},
   "source": [
    "# Делаем конфиг для создания агента"
   ]
  },
  {
   "cell_type": "code",
   "execution_count": 4,
   "id": "c47800fd-4fc8-4f04-bfea-de121754fa87",
   "metadata": {},
   "outputs": [],
   "source": [
    "\"\"\"Define the configurable parameters for the agent.\"\"\"\n",
    "\n",
    "\n",
    "@dataclass(kw_only=True)\n",
    "class Configuration:\n",
    "    \"\"\"The configuration for the agent.\"\"\"\n",
    "\n",
    "    system_prompt: str = field(\n",
    "        default=SYSTEM_PROMPT,\n",
    "        metadata={\n",
    "            \"description\": \"The system prompt to use for the agent's interactions. \"\n",
    "            \"This prompt sets the context and behavior for the agent.\"\n",
    "        },\n",
    "    )\n",
    "\n",
    "    model: Annotated[str, {\"__template_metadata__\": {\"kind\": \"llm\"}}] = field(\n",
    "        default=\"openai/o3-mini\",\n",
    "        metadata={\n",
    "            \"description\": \"The name of the language model to use for the agent's main interactions. \"\n",
    "            \"Should be in the form: provider/model-name.\"\n",
    "        },\n",
    "    )\n",
    "\n",
    "    max_search_results: int = field(\n",
    "        default=10,\n",
    "        metadata={\n",
    "            \"description\": \"The maximum number of search results to return for each search query.\"\n",
    "        },\n",
    "    )\n",
    "\n",
    "    @classmethod\n",
    "    def from_context(cls) -> Configuration:\n",
    "        \"\"\"Create a Configuration instance from a RunnableConfig object.\"\"\"\n",
    "        try:\n",
    "            config = get_config()\n",
    "        except RuntimeError:\n",
    "            config = None\n",
    "        config = ensure_config(config)\n",
    "        configurable = config.get(\"configurable\") or {}\n",
    "        _fields = {f.name for f in fields(cls) if f.init}\n",
    "        return cls(**{k: v for k, v in configurable.items() if k in _fields})"
   ]
  },
  {
   "cell_type": "markdown",
   "id": "c759d931-2ed2-4ca4-bb8e-d437ed71aa62",
   "metadata": {},
   "source": [
    "# Объявляем state для агента"
   ]
  },
  {
   "cell_type": "code",
   "execution_count": 5,
   "id": "825a4592-1513-44b6-9edd-7ffeaa6d2ddc",
   "metadata": {},
   "outputs": [],
   "source": [
    "@dataclass\n",
    "class InputState:\n",
    "\n",
    "    messages: Annotated[Sequence[AnyMessage], add_messages] = field(\n",
    "        default_factory=list\n",
    "    )\n",
    "\n",
    "\n",
    "@dataclass\n",
    "class State(InputState):\n",
    "    is_last_step: IsLastStep = field(default=False)"
   ]
  },
  {
   "cell_type": "markdown",
   "id": "466e53a4-819f-4fef-a56c-7bd4b3bb9785",
   "metadata": {},
   "source": [
    "# Объявляем вспомогательные функции для агента"
   ]
  },
  {
   "cell_type": "code",
   "execution_count": 6,
   "id": "51100871-aa7a-475e-b9e4-14f9791d5788",
   "metadata": {},
   "outputs": [],
   "source": [
    "class ArxivArticle(BaseModel):\n",
    "    title: str = Field(description=\"Заголовок статьи\")\n",
    "    summary: str = Field(description=\"Краткое содержание статьи\")\n",
    "    pdf_url: str = Field(description=\"Ссылка на PDF-файл статьи\")\n",
    "\n",
    "\n",
    "def search_arxiv(query: str) -> ArxivArticle:\n",
    "    search = arxiv.Search(query=query, max_results=1)\n",
    "    result = next(search.results())\n",
    "\n",
    "    # Проверяем, есть ли pdf_url\n",
    "    pdf_url = getattr(result, \"pdf_url\", None)\n",
    "    if not pdf_url:\n",
    "        # Формируем pdf_url вручную из entry_id, если не найден\n",
    "        entry_id = result.entry_id  # например https://arxiv.org/abs/2301.12345\n",
    "        # извлечь id из entry_id\n",
    "        arxiv_id = entry_id.split(\"/\")[-1]\n",
    "        pdf_url = f\"https://arxiv.org/pdf/{arxiv_id}.pdf\"\n",
    "\n",
    "    return ArxivArticle.model_validate(\n",
    "        {\"title\": result.title, \"summary\": result.summary, \"pdf_url\": pdf_url}\n",
    "    )\n",
    "\n",
    "\n",
    "def download_pdf(pdf_url: str) -> str:\n",
    "    \"\"\"Скачивает pdf, сохраняет в temp.pdf.\"\"\"\n",
    "    r = requests.get(pdf_url)\n",
    "    with open(\"temp.pdf\", \"wb\") as f:\n",
    "        f.write(r.content)\n",
    "    return \"temp.pdf\"\n",
    "\n",
    "\n",
    "def load_pdf(pdf_path: str):\n",
    "    \"\"\"Загружает PDF и разбивает на страницы.\"\"\"\n",
    "    loader = PyPDFLoader(pdf_path)\n",
    "    return loader.load_and_split()\n",
    "\n",
    "\n",
    "class PDFQA:\n",
    "    \"\"\"Класс для индексации PDF и ответа на вопросы по ней.\"\"\"\n",
    "\n",
    "    def __init__(self):\n",
    "        self.qa_chain = None\n",
    "\n",
    "    def index_pdf(self, pages):\n",
    "        embeddings = OpenAIEmbeddings()\n",
    "        vectorstore = FAISS.from_documents(pages, embeddings)\n",
    "        retriever = vectorstore.as_retriever(search_kwargs={\"k\": 3})\n",
    "        self.qa_chain = RetrievalQA.from_chain_type(llm=OpenAI(), retriever=retriever)\n",
    "\n",
    "    def ask(self, question: str) -> str:\n",
    "        if not self.qa_chain:\n",
    "            return \"PDF не загружен и не проиндексирован.\"\n",
    "        return self.qa_chain.run(question)\n",
    "\n",
    "\n",
    "pdf_qa = PDFQA()\n",
    "\n",
    "\n",
    "def summarize_pdf(pdf_path: str) -> str:\n",
    "    pages = load_pdf(pdf_path)\n",
    "    llm = OpenAI(model_name=\"o3-mini\")\n",
    "    chain = load_summarize_chain(llm, chain_type=\"map_reduce\")\n",
    "    summary = chain.run(pages)\n",
    "    return summary"
   ]
  },
  {
   "cell_type": "markdown",
   "id": "dd2b321e-87f1-4634-8220-2cd861f1d09a",
   "metadata": {},
   "source": [
    "# Объявляем инструменты для агента"
   ]
  },
  {
   "cell_type": "code",
   "execution_count": 7,
   "id": "78998fbc-39f5-48a4-b1bc-dd83ae5b1874",
   "metadata": {},
   "outputs": [],
   "source": [
    "def tool_search_arxiv(query: str) -> str:\n",
    "    \"Поиск статьи в arXiv по запросу. Ввод: поисковый запрос, вывод: title, summary и pdf ссылка.\"\n",
    "    return search_arxiv(query)\n",
    "\n",
    "\n",
    "def tool_load_and_index(pdf_url: str) -> str:\n",
    "    \"Загружает PDF по ссылке, разбивает на страницы и индексирует для поиска.\"\n",
    "    pdf_path = download_pdf(pdf_url)\n",
    "    pages = load_pdf(pdf_path)\n",
    "    pdf_qa.index_pdf(pages)\n",
    "    return f\"PDF загружен и проиндексирован: {len(pages)} страниц\"\n",
    "\n",
    "\n",
    "def tool_ask_pdf(question: str) -> str:\n",
    "    \"Отвечает на вопросы по загруженному PDF.\"\n",
    "    return pdf_qa.ask(question)\n",
    "\n",
    "\n",
    "def tool_summarize(pdf_url: str) -> str:\n",
    "    \"Делает краткое резюме статьи по PDF-ссылке.\"\n",
    "    pdf_path = download_pdf(pdf_url)\n",
    "    return summarize_pdf(pdf_path)\n",
    "\n",
    "\n",
    "TOOLS: List[Callable[..., Any]] = [\n",
    "    tool_search_arxiv,\n",
    "    tool_load_and_index,\n",
    "    tool_ask_pdf,\n",
    "    tool_summarize,\n",
    "]"
   ]
  },
  {
   "cell_type": "code",
   "execution_count": 8,
   "id": "40168f3c-5907-439b-8d63-2adc8af6c6ed",
   "metadata": {},
   "outputs": [],
   "source": [
    "def get_message_text(msg: BaseMessage) -> str:\n",
    "    \"\"\"Get the text content of a message.\"\"\"\n",
    "    content = msg.content\n",
    "    if isinstance(content, str):\n",
    "        return content\n",
    "    elif isinstance(content, dict):\n",
    "        return content.get(\"text\", \"\")\n",
    "    else:\n",
    "        txts = [c if isinstance(c, str) else (c.get(\"text\") or \"\") for c in content]\n",
    "        return \"\".join(txts).strip()\n",
    "\n",
    "\n",
    "def load_chat_model(fully_specified_name: str) -> BaseChatModel:\n",
    "    provider, model = fully_specified_name.split(\"/\", maxsplit=1)\n",
    "    return init_chat_model(model, model_provider=provider)"
   ]
  },
  {
   "cell_type": "code",
   "execution_count": 9,
   "id": "358c8ed2-c35a-4ba7-abb3-d678744573f5",
   "metadata": {},
   "outputs": [],
   "source": [
    "def call_model(state: State) -> Dict[str, List[AIMessage]]:\n",
    "    configuration = Configuration.from_context()\n",
    "\n",
    "    # Initialize the model with tool binding. Change the model or add more tools here.\n",
    "    model = load_chat_model(configuration.model).bind_tools(TOOLS)\n",
    "\n",
    "    # Format the system prompt. Customize this to change the agent's behavior.\n",
    "    system_message = configuration.system_prompt.format(\n",
    "        system_time=datetime.now(tz=UTC).isoformat()\n",
    "    )\n",
    "\n",
    "    # Get the model's response\n",
    "    response = cast(\n",
    "        AIMessage,\n",
    "        model.invoke([{\"role\": \"system\", \"content\": system_message}, *state.messages]),\n",
    "    )\n",
    "\n",
    "    # Handle the case when it's the last step and the model still wants to use a tool\n",
    "    if state.is_last_step and response.tool_calls:\n",
    "        return {\n",
    "            \"messages\": [\n",
    "                AIMessage(\n",
    "                    id=response.id,\n",
    "                    content=\"Sorry, I could not find an answer to your question in the specified number of steps.\",\n",
    "                )\n",
    "            ]\n",
    "        }\n",
    "\n",
    "    # Return the model's response as a list to be added to existing messages\n",
    "    return {\"messages\": [response]}"
   ]
  },
  {
   "cell_type": "markdown",
   "id": "84018ae5-4767-4f82-8d55-6819a43c1891",
   "metadata": {},
   "source": [
    "#  Строим граф агента"
   ]
  },
  {
   "cell_type": "code",
   "execution_count": 10,
   "id": "361f3e69-14ff-4401-885f-27da4feb397f",
   "metadata": {},
   "outputs": [],
   "source": [
    "builder = StateGraph(State, input=InputState, config_schema=Configuration)\n",
    "\n",
    "# Define the two nodes we will cycle between\n",
    "builder.add_node(call_model)\n",
    "builder.add_node(\"tools\", ToolNode(TOOLS))\n",
    "\n",
    "# Set the entrypoint as `call_model`\n",
    "# This means that this node is the first one called\n",
    "builder.add_edge(\"__start__\", \"call_model\")\n",
    "\n",
    "\n",
    "def route_model_output(state: State) -> Literal[\"__end__\", \"tools\"]:\n",
    "    \"\"\"Determine the next node based on the model's output.\n",
    "\n",
    "    This function checks if the model's last message contains tool calls.\n",
    "\n",
    "    Args:\n",
    "        state (State): The current state of the conversation.\n",
    "\n",
    "    Returns:\n",
    "        str: The name of the next node to call (\"__end__\" or \"tools\").\n",
    "    \"\"\"\n",
    "    last_message = state.messages[-1]\n",
    "    if not isinstance(last_message, AIMessage):\n",
    "        raise ValueError(\n",
    "            f\"Expected AIMessage in output edges, but got {type(last_message).__name__}\"\n",
    "        )\n",
    "    # If there is no tool call, then we finish\n",
    "    if not last_message.tool_calls:\n",
    "        return \"__end__\"\n",
    "    # Otherwise we execute the requested actions\n",
    "    return \"tools\"\n",
    "\n",
    "\n",
    "# Add a conditional edge to determine the next step after `call_model`\n",
    "builder.add_conditional_edges(\n",
    "    \"call_model\",\n",
    "    # After call_model finishes running, the next node(s) are scheduled\n",
    "    # based on the output from route_model_output\n",
    "    route_model_output,\n",
    ")\n",
    "\n",
    "# Add a normal edge from `tools` to `call_model`\n",
    "# This creates a cycle: after using tools, we always return to the model\n",
    "builder.add_edge(\"tools\", \"call_model\")\n",
    "from langgraph.checkpoint.memory import InMemorySaver\n",
    "\n",
    "checkpointer = InMemorySaver()\n",
    "# Compile the builder into an executable graph\n",
    "graph = builder.compile(name=\"ReAct Agent\", checkpointer=checkpointer)"
   ]
  },
  {
   "cell_type": "code",
   "execution_count": 11,
   "id": "08676999-8783-4f71-9a14-2540b2d87556",
   "metadata": {},
   "outputs": [],
   "source": [
    "config = {\"configurable\": {\"thread_id\": \"1\"}}"
   ]
  },
  {
   "cell_type": "markdown",
   "id": "b0dcf001-3d27-4674-b72c-798bca3590e4",
   "metadata": {},
   "source": [
    "#  Примеры запуска"
   ]
  },
  {
   "cell_type": "code",
   "execution_count": 12,
   "id": "9721f8d0-ddee-4cbe-9117-be809ee2ad17",
   "metadata": {},
   "outputs": [
    {
     "name": "stdout",
     "output_type": "stream",
     "text": [
      "Update from node call_model\n",
      "==================================\u001b[1m Ai Message \u001b[0m==================================\n",
      "Tool Calls:\n",
      "  tool_search_arxiv (call_hUWv54yPLUCGMH3xGI8lwe1j)\n",
      " Call ID: call_hUWv54yPLUCGMH3xGI8lwe1j\n",
      "  Args:\n",
      "    query: diffusion models 2024\n",
      "\n",
      "\n",
      "\n"
     ]
    },
    {
     "name": "stderr",
     "output_type": "stream",
     "text": [
      "/var/folders/t7/0zcbppxn02b4wfhmpbfg0f2m0000gn/T/ipykernel_24844/582665867.py:8: DeprecationWarning: The 'Search.results' method is deprecated, use 'Client.results' instead\n",
      "  result = next(search.results())\n"
     ]
    },
    {
     "name": "stdout",
     "output_type": "stream",
     "text": [
      "Update from node tools\n",
      "=================================\u001b[1m Tool Message \u001b[0m=================================\n",
      "Name: tool_search_arxiv\n",
      "\n",
      "title=\"Rebuttal of Morris' criticism of the diffusive compressible Euler model\" summary='This short note addresses the criticism of the diffusive compressible Euler\\nmodel regarding heat diffusion, sound attenuation and material frame\\nindifference put forward by M. Morris.' pdf_url='http://arxiv.org/pdf/2406.18241v1'\n",
      "\n",
      "\n",
      "\n",
      "Update from node call_model\n",
      "==================================\u001b[1m Ai Message \u001b[0m==================================\n",
      "\n",
      "I found a paper on arXiv that seems related to diffusion models in the context of fluid dynamics, specifically addressing the diffusive compressible Euler model. Here are the details:\n",
      "\n",
      "• Title: \"Rebuttal of Morris' criticism of the diffusive compressible Euler model\"  \n",
      "• Summary: This work is a short note responding to the criticism raised by M. Morris regarding the diffusive compressible Euler model. The criticism involves aspects such as heat diffusion, sound attenuation, and material frame indifference.  \n",
      "• PDF link: http://arxiv.org/pdf/2406.18241v1\n",
      "\n",
      "If you need more detailed information about this paper or further exploration into diffusion models in 2024, let me know!\n",
      "\n",
      "\n",
      "\n"
     ]
    }
   ],
   "source": [
    "for chunk in graph.stream(\n",
    "    {\n",
    "        \"messages\": [\n",
    "            {\n",
    "                \"role\": \"user\",\n",
    "                \"content\": \"diffusion models 2024\",\n",
    "            }\n",
    "        ]\n",
    "    },\n",
    "    config=config,\n",
    "):\n",
    "    for node, update in chunk.items():\n",
    "        print(\"Update from node\", node)\n",
    "        update[\"messages\"][-1].pretty_print()\n",
    "        print(\"\\n\\n\")"
   ]
  },
  {
   "cell_type": "code",
   "execution_count": 13,
   "id": "89df03d1-4723-4e98-8c1c-da0257330c12",
   "metadata": {},
   "outputs": [
    {
     "name": "stdout",
     "output_type": "stream",
     "text": [
      "Update from node call_model\n",
      "==================================\u001b[1m Ai Message \u001b[0m==================================\n",
      "\n",
      "Диффузионные модели – это класс генеративных моделей, использующих процесс диффузии для создания новых данных, таких как изображения, аудио или текст. Основная идея такова:\n",
      "\n",
      "1. Сначала данные постепенно зашумляются, то есть к ним добавляется случайный шум до тех пор, пока исходная структура почти полностью не теряется.\n",
      "2. Затем модель обучается выполнять обратный процесс – постепенно устранять шум и восстанавливать исходные данные по шагам. Таким образом, модель генерирует новые примеры, начиная с чистого шума и преобразуя его в осмысленные данные.\n",
      "\n",
      "Этот подход позволяет моделям получать высококачественные и детализированные результаты, а также обеспечивает стабильность обучения, так как обратный процесс диффузии можно формально описать с помощью стохастических процедур. Диффузионные модели стали особенно популярны в области генерации изображений, где они конкурируют с такими методами, как GANы (генеративно-состязательные сети).\n",
      "\n",
      "\n",
      "\n",
      "Update from node call_model\n",
      "==================================\u001b[1m Ai Message \u001b[0m==================================\n",
      "\n",
      "Основная цель статьи — ответить на критику, высказанную Моррисом в отношении диффузивной (с учетом эффекта диффузии) модели сжимаемой Эйлеровой системы. В частности, авторы статьи:\n",
      "\n",
      "1. Разбирают выдвинутые Моррисом возражения, связанные с описанием процессов тепловой диффузии, затухания звука и принципом инвариантности относительно изменения системы отсчёта (материальной инвариантностью).\n",
      "2. Показывают, что критика либо основана на неверном понимании характеристик модели, либо требует уточнения допущений, лежащих в основе диффузионных механизмов в данной модели.\n",
      "3. Аргументированно подтверждают, что рассматриваемая диффузивная модель по-прежнему сохраняет физическую и математическую корректность, несмотря на поднятые возражения.\n",
      "\n",
      "Следует отметить, что материал представлен в виде короткой заметки, поэтому результаты направлены на уточнение и защиту правильности используемой формулировки диффузивной модели в контексте дискуссии с критиком. Если требуется более подробный анализ отдельных выводов или обсуждение математических деталей, можно обратиться к полному тексту статьи по ссылке: http://arxiv.org/pdf/2406.18241v1.\n",
      "\n",
      "\n",
      "\n",
      "Update from node call_model\n",
      "==================================\u001b[1m Ai Message \u001b[0m==================================\n",
      "\n",
      "Статья представляет собой краткий ответ на замечания критики, поэтому методология исследования в ней сводится к следующим основным элементам:\n",
      "\n",
      "1. Анализ аргументов критики – авторы внимательно разбирают ключевые возражения, выдвинутые Моррисом, касающиеся описания тепловой диффузии, затухания звука и принципа материальной инвариантности.\n",
      "\n",
      "2. Формальная проверка математических предпосылок – проводится повторная оценка математических допущений, лежащих в основе диффузивной модели сжимаемой Эйлеровой системы, чтобы показать корректность формулировок, используемых для описания диффузивных процессов.\n",
      "\n",
      "3. Сравнение теоретических выводов с критическими замечаниями – с помощью подробного математического анализа и логической аргументации авторы демонстрируют, что представленные в модели механизмы диффузии отвечают описанным физическим явлениям, что позволяет оспорить замечания Морриса.\n",
      "\n",
      "Таким образом, в основе методологии лежит критический анализ и переосмысление математических конструкций модели, а также формальное сопоставление ее выводов с высказанными критическими замечаниями.\n",
      "\n",
      "\n",
      "\n"
     ]
    }
   ],
   "source": [
    "questions = [\n",
    "    \"Что такое диффузионные модели?\",\n",
    "    \"Какие основные результаты в статье?\",\n",
    "    \"Какова методология исследования в статье?\",\n",
    "]\n",
    "\n",
    "for q in questions:\n",
    "    for chunk in graph.stream(\n",
    "        {\n",
    "            \"messages\": [\n",
    "                {\n",
    "                    \"role\": \"user\",\n",
    "                    \"content\": q,\n",
    "                }\n",
    "            ],\n",
    "        },\n",
    "        config=config,\n",
    "    ):\n",
    "        for node, update in chunk.items():\n",
    "            print(\"Update from node\", node)\n",
    "            update[\"messages\"][-1].pretty_print()\n",
    "            print(\"\\n\\n\")"
   ]
  },
  {
   "cell_type": "markdown",
   "id": "43088a17-41f5-43e4-8d7f-b02304810d74",
   "metadata": {},
   "source": [
    "# Визуализируем граф"
   ]
  },
  {
   "cell_type": "code",
   "execution_count": 15,
   "id": "f3582a28-d88a-4f3f-b27e-8d733b73d88f",
   "metadata": {},
   "outputs": [
    {
     "data": {
      "image/png": "[encoded data removed]",
      "text/plain": [
       "<IPython.core.display.Image object>"
      ]
     },
     "execution_count": 15,
     "metadata": {},
     "output_type": "execute_result"
    }
   ],
   "source": [
    "Image(graph.get_graph().draw_mermaid_png())"
   ]
  }
 ],
 "metadata": {
  "kernelspec": {
   "display_name": "Python 3 (ipykernel)",
   "language": "python",
   "name": "python3"
  },
  "language_info": {
   "codemirror_mode": {
    "name": "ipython",
    "version": 3
   },
   "file_extension": ".py",
   "mimetype": "text/x-python",
   "name": "python",
   "nbconvert_exporter": "python",
   "pygments_lexer": "ipython3",
   "version": "3.13.1"
  }
 },
 "nbformat": 4,
 "nbformat_minor": 5
}
