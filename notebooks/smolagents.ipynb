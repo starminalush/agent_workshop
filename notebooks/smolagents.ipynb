{
 "cells": [
  {
   "cell_type": "code",
   "execution_count": 15,
   "id": "32c78b8f-9b2d-494a-9fb3-b25357a3192b",
   "metadata": {},
   "outputs": [
    {
     "name": "stdin",
     "output_type": "stream",
     "text": [
      "Введите ваш OpenAI API ключ:  ········\n"
     ]
    }
   ],
   "source": [
    "import os\n",
    "from getpass import getpass\n",
    "\n",
    "os.environ[\"OPENAI_API_KEY\"] = getpass(\"Введите ваш OpenAI API ключ: \")"
   ]
  },
  {
   "cell_type": "code",
   "execution_count": 25,
   "id": "5022bb54-8ec4-41db-9868-8ef41a8d9589",
   "metadata": {},
   "outputs": [],
   "source": [
    "from smolagents import tool\n",
    "import arxiv\n",
    "from pydantic import BaseModel, Field\n",
    "from smolagents import ToolCallingAgent, OpenAIServerModel"
   ]
  },
  {
   "cell_type": "code",
   "execution_count": 17,
   "id": "5d80c179-408c-4dce-955d-35d026f5e99e",
   "metadata": {},
   "outputs": [],
   "source": [
    "class ArxivArticle(BaseModel):\n",
    "    title: str = Field(description=\"Заголовок статьи\")\n",
    "    summary: str = Field(description=\"Краткое содержание статьи\")\n",
    "    pdf_url: str = Field(description=\"Ссылка на PDF-файл статьи\")\n",
    "    \n",
    "def search_arxiv(query: str) -> ArxivArticle:\n",
    "    search = arxiv.Search(query=query, max_results=1)\n",
    "    result = next(search.results())\n",
    "    \n",
    "    # Проверяем, есть ли pdf_url\n",
    "    pdf_url = getattr(result, \"pdf_url\", None)\n",
    "    if not pdf_url:\n",
    "        # Формируем pdf_url вручную из entry_id, если не найден\n",
    "        entry_id = result.entry_id  # например https://arxiv.org/abs/2301.12345\n",
    "        # извлечь id из entry_id\n",
    "        arxiv_id = entry_id.split('/')[-1]\n",
    "        pdf_url = f\"https://arxiv.org/pdf/{arxiv_id}.pdf\"\n",
    "\n",
    "    return ArxivArticle.model_validate({\"title\": result.title, \"summary\": result.summary, \"pdf_url\": pdf_url})"
   ]
  },
  {
   "cell_type": "code",
   "execution_count": 18,
   "id": "66908ad3-e6c8-4702-8864-c63a0f1c2b6a",
   "metadata": {},
   "outputs": [],
   "source": [
    "def download_pdf(pdf_url: str) -> str:\n",
    "    \"\"\"Скачивает pdf, сохраняет в temp.pdf.\"\"\"\n",
    "    r = requests.get(pdf_url)\n",
    "    with open(\"temp.pdf\", \"wb\") as f:\n",
    "        f.write(r.content)\n",
    "    return \"temp.pdf\"\n",
    "\n",
    "def load_pdf(pdf_path: str):\n",
    "    \"\"\"Загружает PDF и разбивает на страницы.\"\"\"\n",
    "    loader = PyPDFLoader(pdf_path)\n",
    "    return loader.load_and_split()"
   ]
  },
  {
   "cell_type": "code",
   "execution_count": 19,
   "id": "e574ce00-76f7-4830-a0ae-8799bbd28862",
   "metadata": {},
   "outputs": [],
   "source": [
    "class PDFQA:\n",
    "    \"\"\"Класс для индексации PDF и ответа на вопросы по статье.\"\"\"\n",
    "    def __init__(self):\n",
    "        self.qa_chain = None\n",
    "    \n",
    "    def index_pdf(self, pages):\n",
    "        embeddings = OpenAIEmbeddings()\n",
    "        vectorstore = FAISS.from_documents(pages, embeddings)\n",
    "        retriever = vectorstore.as_retriever(search_kwargs={\"k\": 3})\n",
    "        self.qa_chain = RetrievalQA.from_chain_type(llm=OpenAI(), retriever=retriever)\n",
    "    \n",
    "    def ask(self, question: str) -> str:\n",
    "        if not self.qa_chain:\n",
    "            return \"PDF не загружен и не проиндексирован.\"\n",
    "        return self.qa_chain.run(question)\n",
    "\n",
    "pdf_qa = PDFQA()"
   ]
  },
  {
   "cell_type": "code",
   "execution_count": 20,
   "id": "929a0cca-5d26-4f72-b8dc-bd975b98af53",
   "metadata": {},
   "outputs": [],
   "source": [
    "def summarize_pdf(pdf_path: str) -> str:\n",
    "    pages = load_pdf(pdf_path)\n",
    "    llm = OpenAI(model_name='o3-mini')\n",
    "    chain = load_summarize_chain(llm, chain_type=\"map_reduce\")\n",
    "    summary = chain.run(pages)\n",
    "    return summary"
   ]
  },
  {
   "cell_type": "code",
   "execution_count": 14,
   "id": "fac61ea2-cb04-4d3e-b8ce-75828f3df578",
   "metadata": {},
   "outputs": [],
   "source": [
    "@tool\n",
    "def tool_search_arxiv(query: str) -> str:\n",
    "    \"\"\"Tool for searching arxiv articles by text query.\n",
    "    Args:\n",
    "        query: the topic to search for\n",
    "    \"\"\"\n",
    "    return search_arxiv(query)\n",
    "@tool\n",
    "def tool_load_and_index(pdf_url: str) -> str:\n",
    "    \"\"\"Tool for downloading a PDF file of an article from a link.\n",
    "    Args:\n",
    "        pdf_url: Arxiv paper url\n",
    "    \"\"\"\n",
    "    pdf_path = download_pdf(pdf_url)\n",
    "    pages = load_pdf(pdf_path)\n",
    "    pdf_qa.index_pdf(pages)\n",
    "    return f\"PDF загружен и проиндексирован: {len(pages)} страниц\"\n",
    "@tool\n",
    "def tool_ask_pdf(question: str) -> str:\n",
    "    \"\"\" A tool for answering questions about an uploaded article.\n",
    "    Args:\n",
    "        question: Question about the article\n",
    "    \"\"\"\n",
    "    return pdf_qa.ask(question)\n",
    "@tool\n",
    "def tool_summarize(pdf_url: str) -> str:\n",
    "    \"\"\"Tool for summarizing the uploaded article.\n",
    "    Args:\n",
    "        pdf_url: Arxiv paper url\n",
    "    \"\"\"\n",
    "    pdf_path = download_pdf(pdf_url)\n",
    "    return summarize_pdf(pdf_path)\n"
   ]
  },
  {
   "cell_type": "code",
   "execution_count": 26,
   "id": "2d07f80f-b784-4fa3-863a-7660ceb4b438",
   "metadata": {},
   "outputs": [],
   "source": [
    "agent = ToolCallingAgent(tools=[tool_summarize, tool_ask_pdf, tool_load_and_index, tool_search_arxiv], model=OpenAIServerModel(\n",
    "    model_id=\"o3-mini\"\n",
    "))"
   ]
  },
  {
   "cell_type": "code",
   "execution_count": null,
   "id": "8850a32b-b2c3-48ce-8493-84cda45b888e",
   "metadata": {},
   "outputs": [],
   "source": []
  }
 ],
 "metadata": {
  "kernelspec": {
   "display_name": "Python 3 (ipykernel)",
   "language": "python",
   "name": "python3"
  },
  "language_info": {
   "codemirror_mode": {
    "name": "ipython",
    "version": 3
   },
   "file_extension": ".py",
   "mimetype": "text/x-python",
   "name": "python",
   "nbconvert_exporter": "python",
   "pygments_lexer": "ipython3",
   "version": "3.13.3"
  }
 },
 "nbformat": 4,
 "nbformat_minor": 5
}
