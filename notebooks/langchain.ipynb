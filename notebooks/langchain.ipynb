{
 "cells": [
  {
   "cell_type": "code",
   "execution_count": 2,
   "id": "a2b6e184-0324-472d-a85d-331e9c65ccb3",
   "metadata": {},
   "outputs": [
    {
     "name": "stdout",
     "output_type": "stream",
     "text": [
      "\n",
      "\u001b[1m[\u001b[0m\u001b[34;49mnotice\u001b[0m\u001b[1;39;49m]\u001b[0m\u001b[39;49m A new release of pip is available: \u001b[0m\u001b[31;49m25.0.1\u001b[0m\u001b[39;49m -> \u001b[0m\u001b[32;49m25.1.1\u001b[0m\n",
      "\u001b[1m[\u001b[0m\u001b[34;49mnotice\u001b[0m\u001b[1;39;49m]\u001b[0m\u001b[39;49m To update, run: \u001b[0m\u001b[32;49mpip install --upgrade pip\u001b[0m\n"
     ]
    }
   ],
   "source": [
    "!pip install langchain openai arxiv --quiet"
   ]
  },
  {
   "cell_type": "code",
   "execution_count": null,
   "id": "01f81d63-3f5f-4d87-ae0d-08646589bf39",
   "metadata": {},
   "outputs": [],
   "source": [
    "import arxiv\n",
    "from langchain.llms import OpenAI\n",
    "from langchain.agents import initialize_agent, Tool\n",
    "from langchain.agents.agent_types import AgentType\n",
    "\n",
    "def search_arxiv(query: str, max_results: int = 3) -> str:\n",
    "    results = arxiv.Search(query=query, max_results=max_results).results()\n",
    "    output = []\n",
    "    for r in results:\n",
    "        output.append(f\"\"\"\n",
    "📘 **Title**: {r.title}\n",
    "👨‍🔬 **Authors**: {', '.join([a.name for a in r.authors])}\n",
    "📅 **Published**: {r.published.date()}\n",
    "📄 **Summary**: {r.summary.strip()}\n",
    "🔗 **URL**: {r.entry_id}\n",
    "\"\"\")\n",
    "    return \"\\n\".join(output)\n",
    "\n",
    "    \n",
    "arxiv_tool = Tool(\n",
    "    name=\"ArxivSearch\",\n",
    "    func=lambda q: search_arxiv(q),\n",
    "    description=\"Ищет статьи на arXiv.org по заданному научному запросу\"\n",
    ")\n",
    "\n",
    "# Инициализируем LLM и агента\n",
    "llm = OpenAI(temperature=0)\n",
    "\n",
    "agent = initialize_agent(\n",
    "    tools=[arxiv_tool],\n",
    "    llm=llm,\n",
    "    agent=AgentType.ZERO_SHOT_REACT_DESCRIPTION,\n",
    "    verbose=True\n",
    ")\n",
    "\n",
    "# 🔍 Пример вызова\n",
    "response = agent.run(\"Найди и проанализируй последние статьи на тему diffusion models в 2024 году\")\n",
    "print(response)\n"
   ]
  }
 ],
 "metadata": {
  "kernelspec": {
   "display_name": "Python 3 (ipykernel)",
   "language": "python",
   "name": "python3"
  },
  "language_info": {
   "codemirror_mode": {
    "name": "ipython",
    "version": 3
   },
   "file_extension": ".py",
   "mimetype": "text/x-python",
   "name": "python",
   "nbconvert_exporter": "python",
   "pygments_lexer": "ipython3",
   "version": "3.13.1"
  }
 },
 "nbformat": 4,
 "nbformat_minor": 5
}
