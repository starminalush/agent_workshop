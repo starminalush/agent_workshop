{
 "cells": [
  {
   "cell_type": "code",
   "execution_count": 1,
   "id": "811ab830-9390-4366-b7ea-44aa98988f0e",
   "metadata": {},
   "outputs": [
    {
     "name": "stdin",
     "output_type": "stream",
     "text": [
      "Введите ваш OpenAI API ключ:  ········\n"
     ]
    }
   ],
   "source": [
    "import os\n",
    "from getpass import getpass\n",
    "\n",
    "os.environ[\"OPENAI_API_KEY\"] = getpass(\"Введите ваш OpenAI API ключ: \")"
   ]
  },
  {
   "cell_type": "code",
   "execution_count": 3,
   "id": "2a2ac70d-3789-466c-824a-40f85ca9aab5",
   "metadata": {},
   "outputs": [],
   "source": [
    "from langchain.agents import Tool, initialize_agent, AgentType\n",
    "from langchain_openai import ChatOpenAI as OpenAI\n",
    "from langchain.chains.summarize import load_summarize_chain\n",
    "from langchain.chains import RetrievalQA\n",
    "from langchain_core.tools.structured import StructuredTool\n",
    "\n",
    "from pydantic import BaseModel, Field\n",
    "from langchain.document_loaders import PyPDFLoader\n",
    "from langchain.vectorstores import FAISS\n",
    "from langchain.embeddings import OpenAIEmbeddings\n",
    "import arxiv\n",
    "import requests\n",
    "import re\n",
    "from pydantic import BaseModel"
   ]
  },
  {
   "cell_type": "code",
   "execution_count": 4,
   "id": "01f81d63-3f5f-4d87-ae0d-08646589bf39",
   "metadata": {},
   "outputs": [],
   "source": [
    "class ArxivArticle(BaseModel):\n",
    "    title: str = Field(description=\"Заголовок статьи\")\n",
    "    summary: str = Field(description=\"Краткое содержание статьи\")\n",
    "    pdf_url: str = Field(description=\"Ссылка на PDF-файл статьи\")\n",
    "    \n",
    "def search_arxiv(query: str) -> ArxivArticle:\n",
    "    search = arxiv.Search(query=query, max_results=1)\n",
    "    result = next(search.results())\n",
    "    \n",
    "    # Проверяем, есть ли pdf_url\n",
    "    pdf_url = getattr(result, \"pdf_url\", None)\n",
    "    if not pdf_url:\n",
    "        # Формируем pdf_url вручную из entry_id, если не найден\n",
    "        entry_id = result.entry_id  # например https://arxiv.org/abs/2301.12345\n",
    "        # извлечь id из entry_id\n",
    "        arxiv_id = entry_id.split('/')[-1]\n",
    "        pdf_url = f\"https://arxiv.org/pdf/{arxiv_id}.pdf\"\n",
    "\n",
    "    return ArxivArticle.model_validate({\"title\": result.title, \"summary\": result.summary, \"pdf_url\": pdf_url})\n",
    "\n",
    "def download_pdf(pdf_url: str) -> str:\n",
    "    \"\"\"Скачивает pdf, сохраняет в temp.pdf.\"\"\"\n",
    "    r = requests.get(pdf_url)\n",
    "    with open(\"temp.pdf\", \"wb\") as f:\n",
    "        f.write(r.content)\n",
    "    return \"temp.pdf\"\n",
    "\n",
    "def load_pdf(pdf_path: str):\n",
    "    \"\"\"Загружает PDF и разбивает на страницы.\"\"\"\n",
    "    loader = PyPDFLoader(pdf_path)\n",
    "    return loader.load_and_split()\n",
    "\n",
    "class PDFQA:\n",
    "    \"\"\"Класс для индексации PDF и ответа на вопросы по ней.\"\"\"\n",
    "    def __init__(self):\n",
    "        self.qa_chain = None\n",
    "    \n",
    "    def index_pdf(self, pages):\n",
    "        embeddings = OpenAIEmbeddings()\n",
    "        vectorstore = FAISS.from_documents(pages, embeddings)\n",
    "        retriever = vectorstore.as_retriever(search_kwargs={\"k\": 3})\n",
    "        self.qa_chain = RetrievalQA.from_chain_type(llm=OpenAI(), retriever=retriever)\n",
    "    \n",
    "    def ask(self, question: str) -> str:\n",
    "        if not self.qa_chain:\n",
    "            return \"PDF не загружен и не проиндексирован.\"\n",
    "        return self.qa_chain.run(question)\n",
    "\n",
    "pdf_qa = PDFQA()\n",
    "\n",
    "def summarize_pdf(pdf_path: str) -> str:\n",
    "    pages = load_pdf(pdf_path)\n",
    "    llm = OpenAI(model_name='o3-mini')\n",
    "    chain = load_summarize_chain(llm, chain_type=\"map_reduce\")\n",
    "    summary = chain.run(pages)\n",
    "    return summary\n",
    "\n"
   ]
  },
  {
   "cell_type": "code",
   "execution_count": 5,
   "id": "e02ddd03-308a-49bc-9cc7-16cee2b970fa",
   "metadata": {},
   "outputs": [],
   "source": [
    "# --- Инструменты для ReAct агента ---\n",
    "def tool_search_arxiv(query: str) -> str:\n",
    "    return search_arxiv(query)\n",
    "\n",
    "def tool_load_and_index(pdf_url: str) -> str:\n",
    "    pdf_path = download_pdf(pdf_url)\n",
    "    pages = load_pdf(pdf_path)\n",
    "    pdf_qa.index_pdf(pages)\n",
    "    return f\"PDF загружен и проиндексирован: {len(pages)} страниц\"\n",
    "\n",
    "def tool_ask_pdf(question: str) -> str:\n",
    "    return pdf_qa.ask(question)\n",
    "\n",
    "def tool_summarize(pdf_url: str) -> str:\n",
    "    pdf_path = download_pdf(pdf_url)\n",
    "    return summarize_pdf(pdf_path)\n",
    "\n",
    "tools = [\n",
    "     StructuredTool.from_function(\n",
    "        name=\"SearchArxiv\",\n",
    "        func=tool_search_arxiv,\n",
    "        description=\"Поиск статьи в arXiv по запросу. Ввод: поисковый запрос, вывод: title, summary и pdf ссылка.\",\n",
    "                 return_direct=True\n",
    "    ),\n",
    "    Tool(\n",
    "        name=\"LoadAndIndexPDF\",\n",
    "        func=tool_load_and_index,\n",
    "        description=\"Загружает PDF по ссылке, разбивает на страницы и индексирует для поиска.\"\n",
    "    ),\n",
    "    Tool(\n",
    "        name=\"AskPDF\",\n",
    "        func=tool_ask_pdf,\n",
    "        description=\"Отвечает на вопросы по загруженному PDF.\"\n",
    "    ),\n",
    "    Tool(\n",
    "        name=\"SummarizePDF\",\n",
    "        func=tool_summarize,\n",
    "        description=\"Делает краткое резюме статьи по PDF-ссылке.\"\n",
    "    )\n",
    "]"
   ]
  },
  {
   "cell_type": "code",
   "execution_count": 6,
   "id": "cd785002-93a9-49ad-aeb1-ecaf82ab8c1f",
   "metadata": {},
   "outputs": [
    {
     "name": "stderr",
     "output_type": "stream",
     "text": [
      "/var/folders/t7/0zcbppxn02b4wfhmpbfg0f2m0000gn/T/ipykernel_5588/1595485004.py:5: LangChainDeprecationWarning: LangChain agents will continue to be supported, but it is recommended for new use cases to be built with LangGraph. LangGraph offers a more flexible and full-featured framework for building agents, including support for tool-calling, persistence of state, and human-in-the-loop workflows. For details, refer to the `LangGraph documentation <https://langchain-ai.github.io/langgraph/>`_ as well as guides for `Migrating from AgentExecutor <https://python.langchain.com/docs/how_to/migrate_agent/>`_ and LangGraph's `Pre-built ReAct agent <https://langchain-ai.github.io/langgraph/how-tos/create-react-agent/>`_.\n",
      "  agent = initialize_agent(\n"
     ]
    }
   ],
   "source": [
    "# --- Инициализация агента ReAct ---\n",
    "\n",
    "llm = OpenAI(model_name=\"o3-mini\")\n",
    "\n",
    "agent = initialize_agent(\n",
    "    tools,\n",
    "    llm,\n",
    "    agent_type=AgentType.OPENAI_FUNCTIONS,  \n",
    "    verbose=True,\n",
    ")"
   ]
  },
  {
   "cell_type": "code",
   "execution_count": 7,
   "id": "aea83784-954a-4a83-9d27-5facb47dc31d",
   "metadata": {},
   "outputs": [
    {
     "name": "stdout",
     "output_type": "stream",
     "text": [
      "🔍 Поиск статьи: diffusion models 2024\n",
      "\n",
      "\n",
      "\u001b[1m> Entering new AgentExecutor chain...\u001b[0m\n"
     ]
    },
    {
     "name": "stderr",
     "output_type": "stream",
     "text": [
      "/var/folders/t7/0zcbppxn02b4wfhmpbfg0f2m0000gn/T/ipykernel_5588/2633372081.py:6: LangChainDeprecationWarning: The method `Chain.run` was deprecated in langchain 0.1.0 and will be removed in 1.0. Use :meth:`~invoke` instead.\n",
      "  search_result = agent.run(f\"SearchArxiv: {query}\")\n"
     ]
    },
    {
     "name": "stdout",
     "output_type": "stream",
     "text": [
      "\u001b[32;1m\u001b[1;3mQuestion: SearchArxiv: diffusion models 2024\n",
      "Thought: I need to search arXiv for diffusion models papers from 2024. I'll use the SearchArxiv tool with the query \"diffusion models 2024\".\n",
      "Action: SearchArxiv\n",
      "Action Input: diffusion models 2024\u001b[0m"
     ]
    },
    {
     "name": "stderr",
     "output_type": "stream",
     "text": [
      "/var/folders/t7/0zcbppxn02b4wfhmpbfg0f2m0000gn/T/ipykernel_5588/2040258336.py:8: DeprecationWarning: The 'Search.results' method is deprecated, use 'Client.results' instead\n",
      "  result = next(search.results())\n"
     ]
    },
    {
     "name": "stdout",
     "output_type": "stream",
     "text": [
      "\n",
      "Observation: \u001b[36;1m\u001b[1;3mtitle=\"Rebuttal of Morris' criticism of the diffusive compressible Euler model\" summary='This short note addresses the criticism of the diffusive compressible Euler\\nmodel regarding heat diffusion, sound attenuation and material frame\\nindifference put forward by M. Morris.' pdf_url='http://arxiv.org/pdf/2406.18241v1'\u001b[0m\n",
      "\u001b[32;1m\u001b[1;3m\u001b[0m\n",
      "\n",
      "\u001b[1m> Finished chain.\u001b[0m\n",
      "\n",
      "Результат поиска:\n",
      "title=\"Rebuttal of Morris' criticism of the diffusive compressible Euler model\" summary='This short note addresses the criticism of the diffusive compressible Euler\\nmodel regarding heat diffusion, sound attenuation and material frame\\nindifference put forward by M. Morris.' pdf_url='http://arxiv.org/pdf/2406.18241v1'\n",
      "\n",
      "📥 PDF ссылка: http://arxiv.org/pdf/2406.18241v1\n",
      "\n",
      "⏳ Загрузка и индексирование PDF...\n",
      "\n",
      "\n",
      "\u001b[1m> Entering new AgentExecutor chain...\u001b[0m\n",
      "\u001b[32;1m\u001b[1;3mQuestion: LoadAndIndexPDF: http://arxiv.org/pdf/2406.18241v1\n",
      "Thought: The task is to load and index the provided PDF from the url.\n",
      "Action: LoadAndIndexPDF\n",
      "Action Input: http://arxiv.org/pdf/2406.18241v1\u001b[0m"
     ]
    },
    {
     "name": "stderr",
     "output_type": "stream",
     "text": [
      "/var/folders/t7/0zcbppxn02b4wfhmpbfg0f2m0000gn/T/ipykernel_5588/2040258336.py:39: LangChainDeprecationWarning: The class `OpenAIEmbeddings` was deprecated in LangChain 0.0.9 and will be removed in 1.0. An updated version of the class exists in the :class:`~langchain-openai package and should be used instead. To use it run `pip install -U :class:`~langchain-openai` and import as `from :class:`~langchain_openai import OpenAIEmbeddings``.\n",
      "  embeddings = OpenAIEmbeddings()\n"
     ]
    },
    {
     "name": "stdout",
     "output_type": "stream",
     "text": [
      "\n",
      "Observation: \u001b[33;1m\u001b[1;3mPDF загружен и проиндексирован: 8 страниц\u001b[0m\n",
      "Thought:\u001b[32;1m\u001b[1;3mThought: The PDF from the given URL has been loaded and indexed successfully, and it contains 8 pages.\n",
      "Final Answer: The PDF has been loaded and indexed successfully, and it contains 8 pages.\u001b[0m\n",
      "\n",
      "\u001b[1m> Finished chain.\u001b[0m\n",
      "The PDF has been loaded and indexed successfully, and it contains 8 pages.\n",
      "\n",
      "📝 Генерация резюме статьи...\n",
      "\n",
      "\n",
      "\u001b[1m> Entering new AgentExecutor chain...\u001b[0m\n",
      "\u001b[32;1m\u001b[1;3mQuestion: SummarizePDF: http://arxiv.org/pdf/2406.18241v1\n",
      "\n",
      "Thought: I need to obtain a summary of the provided PDF by using the SummarizePDF tool.\n",
      "\n",
      "Action: SummarizePDF\n",
      "Action Input: http://arxiv.org/pdf/2406.18241v1\n",
      "\u001b[0m\n",
      "Observation: \u001b[36;1m\u001b[1;3mThe paper defends the diffusive compressible Euler (dcE) model—an alternative to the traditional Navier–Stokes–Fourier (NSF) system—against Morris’ criticisms regarding heat diffusion, sound attenuation, and material frame indifference. The dcE model modifies the classic Euler equations by adding diffusive terms (related to dynamic viscosity and the Prandtl number) that represent particle diffusion rather than viscosity or heat conduction. The author argues that while earlier versions missed a κT correction leading to underestimation of heat flux and sound absorption, recent refinements have resolved these shortcomings.\n",
      "\n",
      "The paper emphasizes that the dcE model is designed for near-ideal gases (such as air under normal conditions), not for liquids or strongly non-ideal regimes. In comparisons, the dcE model yields similar accuracy as the NSF model in predicting sound attenuation for noble gases, although discrepancies appear for diatomic and polyatomic gases unless adjustments (e.g., in the bulk viscosity) are made. The author also rebuts claims regarding frame-dependence by explaining that the model’s constitutive laws—grounded in conservation principles and formulated in the spirit of Fourier’s law—remain frame indifferent.\n",
      "\n",
      "Ultimately, the paper contends that, given its intended range (moderate Knudsen numbers and near-ideal gas behavior), the dcE model is a valid and efficient alternative to the NSF system, even if some issues remain in describing more complex, non-ideal phenomena.\u001b[0m\n",
      "Thought:\u001b[32;1m\u001b[1;3mFinal Answer: The paper advocates for the diffusive compressible Euler (dcE) model as a viable alternative to the traditional Navier–Stokes–Fourier (NSF) system for describing near-ideal gases. Unlike classical approaches, the dcE model augments the Euler equations with diffusive terms that account for particle diffusion rather than treating effects solely as viscous or conductive processes. Although earlier versions of the model underpredicted heat flux and sound absorption (missing a κT correction), recent refinements have addressed these issues. The model achieves comparable predictions for sound attenuation in noble gases as the NSF model, though adjustments (like modifying bulk viscosity) are needed for diatomic or polyatomic gases. Importantly, the work also defends the model against criticisms regarding frame dependence by highlighting its robust, conservation-based constitutive laws. Overall, within its intended regime of moderate Knudsen numbers and near-ideal gas behavior, the dcE model is presented as both valid and efficient.\u001b[0m\n",
      "\n",
      "\u001b[1m> Finished chain.\u001b[0m\n",
      "The paper advocates for the diffusive compressible Euler (dcE) model as a viable alternative to the traditional Navier–Stokes–Fourier (NSF) system for describing near-ideal gases. Unlike classical approaches, the dcE model augments the Euler equations with diffusive terms that account for particle diffusion rather than treating effects solely as viscous or conductive processes. Although earlier versions of the model underpredicted heat flux and sound absorption (missing a κT correction), recent refinements have addressed these issues. The model achieves comparable predictions for sound attenuation in noble gases as the NSF model, though adjustments (like modifying bulk viscosity) are needed for diatomic or polyatomic gases. Importantly, the work also defends the model against criticisms regarding frame dependence by highlighting its robust, conservation-based constitutive laws. Overall, within its intended regime of moderate Knudsen numbers and near-ideal gas behavior, the dcE model is presented as both valid and efficient.\n",
      "\n",
      "❓ Вопрос: Что такое диффузионные модели на основе статьи?\n",
      "\n",
      "\n",
      "\u001b[1m> Entering new AgentExecutor chain...\u001b[0m\n",
      "\u001b[32;1m\u001b[1;3mThought: I will search for a relevant article on diffusion models (e.g., the “Denoising Diffusion Probabilistic Models” paper) and then use AskPDF to answer the question based on it.\n",
      "Action: SearchArxiv\n",
      "Action Input: Denoising Diffusion Probabilistic Models\u001b[0m"
     ]
    },
    {
     "name": "stderr",
     "output_type": "stream",
     "text": [
      "/var/folders/t7/0zcbppxn02b4wfhmpbfg0f2m0000gn/T/ipykernel_5588/2040258336.py:8: DeprecationWarning: The 'Search.results' method is deprecated, use 'Client.results' instead\n",
      "  result = next(search.results())\n"
     ]
    },
    {
     "name": "stdout",
     "output_type": "stream",
     "text": [
      "\n",
      "Observation: \u001b[36;1m\u001b[1;3mtitle='RGB-D-Fusion: Image Conditioned Depth Diffusion of Humanoid Subjects' summary='We present RGB-D-Fusion, a multi-modal conditional denoising diffusion\\nprobabilistic model to generate high resolution depth maps from low-resolution\\nmonocular RGB images of humanoid subjects. RGB-D-Fusion first generates a\\nlow-resolution depth map using an image conditioned denoising diffusion\\nprobabilistic model and then upsamples the depth map using a second denoising\\ndiffusion probabilistic model conditioned on a low-resolution RGB-D image. We\\nfurther introduce a novel augmentation technique, depth noise augmentation, to\\nincrease the robustness of our super-resolution model.' pdf_url='http://arxiv.org/pdf/2307.15988v1'\u001b[0m\n",
      "\u001b[32;1m\u001b[1;3m\u001b[0m\n",
      "\n",
      "\u001b[1m> Finished chain.\u001b[0m\n",
      "🤖 Ответ: title='RGB-D-Fusion: Image Conditioned Depth Diffusion of Humanoid Subjects' summary='We present RGB-D-Fusion, a multi-modal conditional denoising diffusion\\nprobabilistic model to generate high resolution depth maps from low-resolution\\nmonocular RGB images of humanoid subjects. RGB-D-Fusion first generates a\\nlow-resolution depth map using an image conditioned denoising diffusion\\nprobabilistic model and then upsamples the depth map using a second denoising\\ndiffusion probabilistic model conditioned on a low-resolution RGB-D image. We\\nfurther introduce a novel augmentation technique, depth noise augmentation, to\\nincrease the robustness of our super-resolution model.' pdf_url='http://arxiv.org/pdf/2307.15988v1'\n",
      "\n",
      "❓ Вопрос: Какие основные результаты в статье?\n",
      "\n",
      "\n",
      "\u001b[1m> Entering new AgentExecutor chain...\u001b[0m\n",
      "\u001b[32;1m\u001b[1;3mThought: The question asks: \"AskPDF: Какие основные результаты в статье?\" (What are the main results in the article?) However, no specific article or PDF link has been provided. I need clarification about which article should be analyzed.\n",
      "\n",
      "Final Answer: Пожалуйста, уточните, о какой статье идет речь или предоставьте ссылку на соответствующий PDF-файл.\u001b[0m\n",
      "\n",
      "\u001b[1m> Finished chain.\u001b[0m\n",
      "🤖 Ответ: Пожалуйста, уточните, о какой статье идет речь или предоставьте ссылку на соответствующий PDF-файл.\n",
      "\n",
      "❓ Вопрос: Какова методология исследования в статье?\n",
      "\n",
      "\n",
      "\u001b[1m> Entering new AgentExecutor chain...\u001b[0m\n",
      "\u001b[32;1m\u001b[1;3mQuestion: AskPDF: Какова методология исследования в статье?  \n",
      "Thought: Чтобы ответить на этот вопрос, я воспользуюсь инструментом AskPDF, который отвечает на вопросы по загруженному PDF.  \n",
      "Action: AskPDF  \n",
      "Action Input: Какова методология исследования в статье?  \u001b[0m\n",
      "Observation: \u001b[38;5;200m\u001b[1;3mВ статье описывается анализ критики Морриса по отношению к модели dcE и проведение опровержения этих критических замечаний. Автор статьи обсуждает методы, используемые Моррисом для попыток опровержения модели dcE, в частности, сосредотачивается на критике, вызванной различиями в звукопоглощении для газов и осуществляет сравнения с другими моделями, такими как NSF. Также в статье проводится анализ материала физической модели и ее соответствия основным принципам физики.\u001b[0m\n",
      "Thought:\u001b[32;1m\u001b[1;3mQuestion: AskPDF: Какова методология исследования в статье?  \n",
      "Thought: Для ответа я воспользовался AskPDF, который уже дал информацию о методологии.  \n",
      "Final Answer: Методология исследования заключается в анализе критики Морриса, направленной на модель dcE, и в опровержении этих замечаний. В частности, автор статьи сосредотачивается на выявлении различий в звукопоглощении для газов, сравнивает модель dcE с другими моделями, такими как NSF, и проводит анализ соответствия физической модели основным принципам физики.\u001b[0m\n",
      "\n",
      "\u001b[1m> Finished chain.\u001b[0m\n",
      "🤖 Ответ: Методология исследования заключается в анализе критики Морриса, направленной на модель dcE, и в опровержении этих замечаний. В частности, автор статьи сосредотачивается на выявлении различий в звукопоглощении для газов, сравнивает модель dcE с другими моделями, такими как NSF, и проводит анализ соответствия физической модели основным принципам физики.\n"
     ]
    }
   ],
   "source": [
    "# --- Пример использования ---\n",
    "\n",
    "# 1. Поиск статьи\n",
    "query = \"diffusion models 2024\"\n",
    "print(f\"Поиск статьи: {query}\")\n",
    "search_result = agent.run(f\"SearchArxiv: {query}\")\n",
    "\n",
    "print(\"\\nРезультат поиска:\")\n",
    "print(search_result)\n",
    "pdf_url = search_result.pdf_url\n",
    "print(f\"PDF ссылка: {pdf_url}\")\n",
    "\n",
    "# 2. Загрузка и индексирование PDF\n",
    "print(\"Загрузка и индексирование PDF...\")\n",
    "load_index_result = agent.run(f\"LoadAndIndexPDF: {pdf_url}\")\n",
    "print(load_index_result)\n",
    "\n",
    "# 3. Суммаризация\n",
    "print(\"Генерация резюме статьи...\")\n",
    "summary = agent.run(f\"SummarizePDF: {pdf_url}\")\n",
    "print(summary)\n",
    "\n",
    "# 4. Вопросы по статье\n",
    "questions = [\n",
    "    \"Что такое диффузионные модели?\",\n",
    "    \"Какие основные результаты в статье?\",\n",
    "    \"Какова методология исследования в статье?\"\n",
    "]\n",
    "\n",
    "for q in questions:\n",
    "    print(f\"Вопрос: {q}\")\n",
    "    answer = agent.run(f\"AskPDF: {q}\")\n",
    "    print(f\"Ответ: {answer}\")"
   ]
  }
 ],
 "metadata": {
  "kernelspec": {
   "display_name": "Python 3 (ipykernel)",
   "language": "python",
   "name": "python3"
  },
  "language_info": {
   "codemirror_mode": {
    "name": "ipython",
    "version": 3
   },
   "file_extension": ".py",
   "mimetype": "text/x-python",
   "name": "python",
   "nbconvert_exporter": "python",
   "pygments_lexer": "ipython3",
   "version": "3.13.1"
  }
 },
 "nbformat": 4,
 "nbformat_minor": 5
}
